{
  "nbformat": 4,
  "nbformat_minor": 0,
  "metadata": {
    "colab": {
      "name": "Customer Churn Prediction using ANN.ipynb",
      "provenance": [],
      "collapsed_sections": [],
      "authorship_tag": "ABX9TyNinbPF4QrfLGdUgu619mRV",
      "include_colab_link": true
    },
    "kernelspec": {
      "name": "python3",
      "display_name": "Python 3"
    },
    "language_info": {
      "name": "python"
    },
    "accelerator": "GPU"
  },
  "cells": [
    {
      "cell_type": "markdown",
      "metadata": {
        "id": "view-in-github",
        "colab_type": "text"
      },
      "source": [
        "<a href=\"https://colab.research.google.com/github/mspatke/Binary-Classification-using-ANN/blob/main/Customer_Churn_Prediction_using_ANN.ipynb\" target=\"_parent\"><img src=\"https://colab.research.google.com/assets/colab-badge.svg\" alt=\"Open In Colab\"/></a>"
      ]
    },
    {
      "cell_type": "code",
      "source": [
        "import pandas as pd\n",
        "import numpy as np\n",
        "import seaborn as sns\n"
      ],
      "metadata": {
        "id": "GVKU6Fy7nzVn"
      },
      "execution_count": null,
      "outputs": []
    },
    {
      "cell_type": "code",
      "source": [
        "df= pd.read_csv(\"Churn_Modelling.csv\")"
      ],
      "metadata": {
        "id": "TURMEsSHoY06"
      },
      "execution_count": null,
      "outputs": []
    },
    {
      "cell_type": "code",
      "source": [
        "df.head(5)"
      ],
      "metadata": {
        "id": "tcNXMqA1ogZZ",
        "colab": {
          "base_uri": "https://localhost:8080/",
          "height": 206
        },
        "outputId": "0819d0d9-76ce-4b2c-9d60-43e0223b8687"
      },
      "execution_count": null,
      "outputs": [
        {
          "output_type": "execute_result",
          "data": {
            "text/html": [
              "\n",
              "  <div id=\"df-285d3845-d9c8-412c-bc36-474460b88230\">\n",
              "    <div class=\"colab-df-container\">\n",
              "      <div>\n",
              "<style scoped>\n",
              "    .dataframe tbody tr th:only-of-type {\n",
              "        vertical-align: middle;\n",
              "    }\n",
              "\n",
              "    .dataframe tbody tr th {\n",
              "        vertical-align: top;\n",
              "    }\n",
              "\n",
              "    .dataframe thead th {\n",
              "        text-align: right;\n",
              "    }\n",
              "</style>\n",
              "<table border=\"1\" class=\"dataframe\">\n",
              "  <thead>\n",
              "    <tr style=\"text-align: right;\">\n",
              "      <th></th>\n",
              "      <th>RowNumber</th>\n",
              "      <th>CustomerId</th>\n",
              "      <th>Surname</th>\n",
              "      <th>CreditScore</th>\n",
              "      <th>Geography</th>\n",
              "      <th>Gender</th>\n",
              "      <th>Age</th>\n",
              "      <th>Tenure</th>\n",
              "      <th>Balance</th>\n",
              "      <th>NumOfProducts</th>\n",
              "      <th>HasCrCard</th>\n",
              "      <th>IsActiveMember</th>\n",
              "      <th>EstimatedSalary</th>\n",
              "      <th>Exited</th>\n",
              "    </tr>\n",
              "  </thead>\n",
              "  <tbody>\n",
              "    <tr>\n",
              "      <th>0</th>\n",
              "      <td>1</td>\n",
              "      <td>15634602</td>\n",
              "      <td>Hargrave</td>\n",
              "      <td>619</td>\n",
              "      <td>France</td>\n",
              "      <td>Female</td>\n",
              "      <td>42</td>\n",
              "      <td>2</td>\n",
              "      <td>0.00</td>\n",
              "      <td>1</td>\n",
              "      <td>1</td>\n",
              "      <td>1</td>\n",
              "      <td>101348.88</td>\n",
              "      <td>1</td>\n",
              "    </tr>\n",
              "    <tr>\n",
              "      <th>1</th>\n",
              "      <td>2</td>\n",
              "      <td>15647311</td>\n",
              "      <td>Hill</td>\n",
              "      <td>608</td>\n",
              "      <td>Spain</td>\n",
              "      <td>Female</td>\n",
              "      <td>41</td>\n",
              "      <td>1</td>\n",
              "      <td>83807.86</td>\n",
              "      <td>1</td>\n",
              "      <td>0</td>\n",
              "      <td>1</td>\n",
              "      <td>112542.58</td>\n",
              "      <td>0</td>\n",
              "    </tr>\n",
              "    <tr>\n",
              "      <th>2</th>\n",
              "      <td>3</td>\n",
              "      <td>15619304</td>\n",
              "      <td>Onio</td>\n",
              "      <td>502</td>\n",
              "      <td>France</td>\n",
              "      <td>Female</td>\n",
              "      <td>42</td>\n",
              "      <td>8</td>\n",
              "      <td>159660.80</td>\n",
              "      <td>3</td>\n",
              "      <td>1</td>\n",
              "      <td>0</td>\n",
              "      <td>113931.57</td>\n",
              "      <td>1</td>\n",
              "    </tr>\n",
              "    <tr>\n",
              "      <th>3</th>\n",
              "      <td>4</td>\n",
              "      <td>15701354</td>\n",
              "      <td>Boni</td>\n",
              "      <td>699</td>\n",
              "      <td>France</td>\n",
              "      <td>Female</td>\n",
              "      <td>39</td>\n",
              "      <td>1</td>\n",
              "      <td>0.00</td>\n",
              "      <td>2</td>\n",
              "      <td>0</td>\n",
              "      <td>0</td>\n",
              "      <td>93826.63</td>\n",
              "      <td>0</td>\n",
              "    </tr>\n",
              "    <tr>\n",
              "      <th>4</th>\n",
              "      <td>5</td>\n",
              "      <td>15737888</td>\n",
              "      <td>Mitchell</td>\n",
              "      <td>850</td>\n",
              "      <td>Spain</td>\n",
              "      <td>Female</td>\n",
              "      <td>43</td>\n",
              "      <td>2</td>\n",
              "      <td>125510.82</td>\n",
              "      <td>1</td>\n",
              "      <td>1</td>\n",
              "      <td>1</td>\n",
              "      <td>79084.10</td>\n",
              "      <td>0</td>\n",
              "    </tr>\n",
              "  </tbody>\n",
              "</table>\n",
              "</div>\n",
              "      <button class=\"colab-df-convert\" onclick=\"convertToInteractive('df-285d3845-d9c8-412c-bc36-474460b88230')\"\n",
              "              title=\"Convert this dataframe to an interactive table.\"\n",
              "              style=\"display:none;\">\n",
              "        \n",
              "  <svg xmlns=\"http://www.w3.org/2000/svg\" height=\"24px\"viewBox=\"0 0 24 24\"\n",
              "       width=\"24px\">\n",
              "    <path d=\"M0 0h24v24H0V0z\" fill=\"none\"/>\n",
              "    <path d=\"M18.56 5.44l.94 2.06.94-2.06 2.06-.94-2.06-.94-.94-2.06-.94 2.06-2.06.94zm-11 1L8.5 8.5l.94-2.06 2.06-.94-2.06-.94L8.5 2.5l-.94 2.06-2.06.94zm10 10l.94 2.06.94-2.06 2.06-.94-2.06-.94-.94-2.06-.94 2.06-2.06.94z\"/><path d=\"M17.41 7.96l-1.37-1.37c-.4-.4-.92-.59-1.43-.59-.52 0-1.04.2-1.43.59L10.3 9.45l-7.72 7.72c-.78.78-.78 2.05 0 2.83L4 21.41c.39.39.9.59 1.41.59.51 0 1.02-.2 1.41-.59l7.78-7.78 2.81-2.81c.8-.78.8-2.07 0-2.86zM5.41 20L4 18.59l7.72-7.72 1.47 1.35L5.41 20z\"/>\n",
              "  </svg>\n",
              "      </button>\n",
              "      \n",
              "  <style>\n",
              "    .colab-df-container {\n",
              "      display:flex;\n",
              "      flex-wrap:wrap;\n",
              "      gap: 12px;\n",
              "    }\n",
              "\n",
              "    .colab-df-convert {\n",
              "      background-color: #E8F0FE;\n",
              "      border: none;\n",
              "      border-radius: 50%;\n",
              "      cursor: pointer;\n",
              "      display: none;\n",
              "      fill: #1967D2;\n",
              "      height: 32px;\n",
              "      padding: 0 0 0 0;\n",
              "      width: 32px;\n",
              "    }\n",
              "\n",
              "    .colab-df-convert:hover {\n",
              "      background-color: #E2EBFA;\n",
              "      box-shadow: 0px 1px 2px rgba(60, 64, 67, 0.3), 0px 1px 3px 1px rgba(60, 64, 67, 0.15);\n",
              "      fill: #174EA6;\n",
              "    }\n",
              "\n",
              "    [theme=dark] .colab-df-convert {\n",
              "      background-color: #3B4455;\n",
              "      fill: #D2E3FC;\n",
              "    }\n",
              "\n",
              "    [theme=dark] .colab-df-convert:hover {\n",
              "      background-color: #434B5C;\n",
              "      box-shadow: 0px 1px 3px 1px rgba(0, 0, 0, 0.15);\n",
              "      filter: drop-shadow(0px 1px 2px rgba(0, 0, 0, 0.3));\n",
              "      fill: #FFFFFF;\n",
              "    }\n",
              "  </style>\n",
              "\n",
              "      <script>\n",
              "        const buttonEl =\n",
              "          document.querySelector('#df-285d3845-d9c8-412c-bc36-474460b88230 button.colab-df-convert');\n",
              "        buttonEl.style.display =\n",
              "          google.colab.kernel.accessAllowed ? 'block' : 'none';\n",
              "\n",
              "        async function convertToInteractive(key) {\n",
              "          const element = document.querySelector('#df-285d3845-d9c8-412c-bc36-474460b88230');\n",
              "          const dataTable =\n",
              "            await google.colab.kernel.invokeFunction('convertToInteractive',\n",
              "                                                     [key], {});\n",
              "          if (!dataTable) return;\n",
              "\n",
              "          const docLinkHtml = 'Like what you see? Visit the ' +\n",
              "            '<a target=\"_blank\" href=https://colab.research.google.com/notebooks/data_table.ipynb>data table notebook</a>'\n",
              "            + ' to learn more about interactive tables.';\n",
              "          element.innerHTML = '';\n",
              "          dataTable['output_type'] = 'display_data';\n",
              "          await google.colab.output.renderOutput(dataTable, element);\n",
              "          const docLink = document.createElement('div');\n",
              "          docLink.innerHTML = docLinkHtml;\n",
              "          element.appendChild(docLink);\n",
              "        }\n",
              "      </script>\n",
              "    </div>\n",
              "  </div>\n",
              "  "
            ],
            "text/plain": [
              "   RowNumber  CustomerId   Surname  CreditScore Geography  Gender  Age  \\\n",
              "0          1    15634602  Hargrave          619    France  Female   42   \n",
              "1          2    15647311      Hill          608     Spain  Female   41   \n",
              "2          3    15619304      Onio          502    France  Female   42   \n",
              "3          4    15701354      Boni          699    France  Female   39   \n",
              "4          5    15737888  Mitchell          850     Spain  Female   43   \n",
              "\n",
              "   Tenure    Balance  NumOfProducts  HasCrCard  IsActiveMember  \\\n",
              "0       2       0.00              1          1               1   \n",
              "1       1   83807.86              1          0               1   \n",
              "2       8  159660.80              3          1               0   \n",
              "3       1       0.00              2          0               0   \n",
              "4       2  125510.82              1          1               1   \n",
              "\n",
              "   EstimatedSalary  Exited  \n",
              "0        101348.88       1  \n",
              "1        112542.58       0  \n",
              "2        113931.57       1  \n",
              "3         93826.63       0  \n",
              "4         79084.10       0  "
            ]
          },
          "metadata": {},
          "execution_count": 87
        }
      ]
    },
    {
      "cell_type": "code",
      "source": [
        "df.info()"
      ],
      "metadata": {
        "id": "9hxHVR1WomHI",
        "colab": {
          "base_uri": "https://localhost:8080/"
        },
        "outputId": "5065778c-d3c8-4ddf-b265-13e3872c6b86"
      },
      "execution_count": null,
      "outputs": [
        {
          "output_type": "stream",
          "name": "stdout",
          "text": [
            "<class 'pandas.core.frame.DataFrame'>\n",
            "RangeIndex: 10000 entries, 0 to 9999\n",
            "Data columns (total 14 columns):\n",
            " #   Column           Non-Null Count  Dtype  \n",
            "---  ------           --------------  -----  \n",
            " 0   RowNumber        10000 non-null  int64  \n",
            " 1   CustomerId       10000 non-null  int64  \n",
            " 2   Surname          10000 non-null  object \n",
            " 3   CreditScore      10000 non-null  int64  \n",
            " 4   Geography        10000 non-null  object \n",
            " 5   Gender           10000 non-null  object \n",
            " 6   Age              10000 non-null  int64  \n",
            " 7   Tenure           10000 non-null  int64  \n",
            " 8   Balance          10000 non-null  float64\n",
            " 9   NumOfProducts    10000 non-null  int64  \n",
            " 10  HasCrCard        10000 non-null  int64  \n",
            " 11  IsActiveMember   10000 non-null  int64  \n",
            " 12  EstimatedSalary  10000 non-null  float64\n",
            " 13  Exited           10000 non-null  int64  \n",
            "dtypes: float64(2), int64(9), object(3)\n",
            "memory usage: 1.1+ MB\n"
          ]
        }
      ]
    },
    {
      "cell_type": "code",
      "source": [
        "sns.countplot(df.HasCrCard)"
      ],
      "metadata": {
        "id": "Vx95onX_o4Vg",
        "colab": {
          "base_uri": "https://localhost:8080/",
          "height": 351
        },
        "outputId": "d38bf29b-65b3-4cd9-ec78-6f2052acf6b7"
      },
      "execution_count": null,
      "outputs": [
        {
          "output_type": "stream",
          "name": "stderr",
          "text": [
            "/usr/local/lib/python3.7/dist-packages/seaborn/_decorators.py:43: FutureWarning: Pass the following variable as a keyword arg: x. From version 0.12, the only valid positional argument will be `data`, and passing other arguments without an explicit keyword will result in an error or misinterpretation.\n",
            "  FutureWarning\n"
          ]
        },
        {
          "output_type": "execute_result",
          "data": {
            "text/plain": [
              "<matplotlib.axes._subplots.AxesSubplot at 0x7f83400231d0>"
            ]
          },
          "metadata": {},
          "execution_count": 89
        },
        {
          "output_type": "display_data",
          "data": {
            "image/png": "[encoded data removed]",
            "text/plain": [
              "<Figure size 432x288 with 1 Axes>"
            ]
          },
          "metadata": {
            "needs_background": "light"
          }
        }
      ]
    },
    {
      "cell_type": "code",
      "source": [
        "df.duplicated().sum()"
      ],
      "metadata": {
        "id": "3z08OuGbpQyy",
        "colab": {
          "base_uri": "https://localhost:8080/"
        },
        "outputId": "a7340286-156a-4a21-9491-32f7d49ac463"
      },
      "execution_count": null,
      "outputs": [
        {
          "output_type": "execute_result",
          "data": {
            "text/plain": [
              "0"
            ]
          },
          "metadata": {},
          "execution_count": 90
        }
      ]
    },
    {
      "cell_type": "code",
      "source": [
        "df['Exited'].value_counts()"
      ],
      "metadata": {
        "id": "JZAbGGurpUhZ",
        "colab": {
          "base_uri": "https://localhost:8080/"
        },
        "outputId": "88be5ec7-8a29-4a7f-90f4-6813a1f80e69"
      },
      "execution_count": null,
      "outputs": [
        {
          "output_type": "execute_result",
          "data": {
            "text/plain": [
              "0    7963\n",
              "1    2037\n",
              "Name: Exited, dtype: int64"
            ]
          },
          "metadata": {},
          "execution_count": 91
        }
      ]
    },
    {
      "cell_type": "code",
      "source": [
        "sns.countplot(df.Exited)"
      ],
      "metadata": {
        "id": "wlORMRxjojch",
        "colab": {
          "base_uri": "https://localhost:8080/",
          "height": 351
        },
        "outputId": "24b34890-10d1-4502-9013-6ec6749fa10b"
      },
      "execution_count": null,
      "outputs": [
        {
          "output_type": "stream",
          "name": "stderr",
          "text": [
            "/usr/local/lib/python3.7/dist-packages/seaborn/_decorators.py:43: FutureWarning: Pass the following variable as a keyword arg: x. From version 0.12, the only valid positional argument will be `data`, and passing other arguments without an explicit keyword will result in an error or misinterpretation.\n",
            "  FutureWarning\n"
          ]
        },
        {
          "output_type": "execute_result",
          "data": {
            "text/plain": [
              "<matplotlib.axes._subplots.AxesSubplot at 0x7f82d16de750>"
            ]
          },
          "metadata": {},
          "execution_count": 92
        },
        {
          "output_type": "display_data",
          "data": {
            "image/png": "[encoded data removed]",
            "text/plain": [
              "<Figure size 432x288 with 1 Axes>"
            ]
          },
          "metadata": {
            "needs_background": "light"
          }
        }
      ]
    },
    {
      "cell_type": "code",
      "source": [
        "df['Geography'].value_counts()"
      ],
      "metadata": {
        "id": "38VPVHaypa1D",
        "colab": {
          "base_uri": "https://localhost:8080/"
        },
        "outputId": "515e98ec-7d2d-447a-94c3-e9187d57338b"
      },
      "execution_count": null,
      "outputs": [
        {
          "output_type": "execute_result",
          "data": {
            "text/plain": [
              "France     5014\n",
              "Germany    2509\n",
              "Spain      2477\n",
              "Name: Geography, dtype: int64"
            ]
          },
          "metadata": {},
          "execution_count": 93
        }
      ]
    },
    {
      "cell_type": "code",
      "source": [
        "df['Gender'].value_counts()"
      ],
      "metadata": {
        "id": "vD6reOUVpk5p",
        "colab": {
          "base_uri": "https://localhost:8080/"
        },
        "outputId": "d6ded97d-315d-486f-cfcc-39d8a95140c0"
      },
      "execution_count": null,
      "outputs": [
        {
          "output_type": "execute_result",
          "data": {
            "text/plain": [
              "Male      5457\n",
              "Female    4543\n",
              "Name: Gender, dtype: int64"
            ]
          },
          "metadata": {},
          "execution_count": 94
        }
      ]
    },
    {
      "cell_type": "code",
      "source": [
        "df.drop(columns=['RowNumber','CustomerId','Surname'],inplace = True)"
      ],
      "metadata": {
        "id": "iUIbUZRHpqfk"
      },
      "execution_count": null,
      "outputs": []
    },
    {
      "cell_type": "code",
      "source": [
        "df.head()"
      ],
      "metadata": {
        "id": "-DYhk_w2p7io",
        "colab": {
          "base_uri": "https://localhost:8080/",
          "height": 206
        },
        "outputId": "08991b4a-098a-43da-a137-126c2cb6f84f"
      },
      "execution_count": null,
      "outputs": [
        {
          "output_type": "execute_result",
          "data": {
            "text/html": [
              "\n",
              "  <div id=\"df-99a1165d-39a6-439c-a9fe-809380ae5ed4\">\n",
              "    <div class=\"colab-df-container\">\n",
              "      <div>\n",
              "<style scoped>\n",
              "    .dataframe tbody tr th:only-of-type {\n",
              "        vertical-align: middle;\n",
              "    }\n",
              "\n",
              "    .dataframe tbody tr th {\n",
              "        vertical-align: top;\n",
              "    }\n",
              "\n",
              "    .dataframe thead th {\n",
              "        text-align: right;\n",
              "    }\n",
              "</style>\n",
              "<table border=\"1\" class=\"dataframe\">\n",
              "  <thead>\n",
              "    <tr style=\"text-align: right;\">\n",
              "      <th></th>\n",
              "      <th>CreditScore</th>\n",
              "      <th>Geography</th>\n",
              "      <th>Gender</th>\n",
              "      <th>Age</th>\n",
              "      <th>Tenure</th>\n",
              "      <th>Balance</th>\n",
              "      <th>NumOfProducts</th>\n",
              "      <th>HasCrCard</th>\n",
              "      <th>IsActiveMember</th>\n",
              "      <th>EstimatedSalary</th>\n",
              "      <th>Exited</th>\n",
              "    </tr>\n",
              "  </thead>\n",
              "  <tbody>\n",
              "    <tr>\n",
              "      <th>0</th>\n",
              "      <td>619</td>\n",
              "      <td>France</td>\n",
              "      <td>Female</td>\n",
              "      <td>42</td>\n",
              "      <td>2</td>\n",
              "      <td>0.00</td>\n",
              "      <td>1</td>\n",
              "      <td>1</td>\n",
              "      <td>1</td>\n",
              "      <td>101348.88</td>\n",
              "      <td>1</td>\n",
              "    </tr>\n",
              "    <tr>\n",
              "      <th>1</th>\n",
              "      <td>608</td>\n",
              "      <td>Spain</td>\n",
              "      <td>Female</td>\n",
              "      <td>41</td>\n",
              "      <td>1</td>\n",
              "      <td>83807.86</td>\n",
              "      <td>1</td>\n",
              "      <td>0</td>\n",
              "      <td>1</td>\n",
              "      <td>112542.58</td>\n",
              "      <td>0</td>\n",
              "    </tr>\n",
              "    <tr>\n",
              "      <th>2</th>\n",
              "      <td>502</td>\n",
              "      <td>France</td>\n",
              "      <td>Female</td>\n",
              "      <td>42</td>\n",
              "      <td>8</td>\n",
              "      <td>159660.80</td>\n",
              "      <td>3</td>\n",
              "      <td>1</td>\n",
              "      <td>0</td>\n",
              "      <td>113931.57</td>\n",
              "      <td>1</td>\n",
              "    </tr>\n",
              "    <tr>\n",
              "      <th>3</th>\n",
              "      <td>699</td>\n",
              "      <td>France</td>\n",
              "      <td>Female</td>\n",
              "      <td>39</td>\n",
              "      <td>1</td>\n",
              "      <td>0.00</td>\n",
              "      <td>2</td>\n",
              "      <td>0</td>\n",
              "      <td>0</td>\n",
              "      <td>93826.63</td>\n",
              "      <td>0</td>\n",
              "    </tr>\n",
              "    <tr>\n",
              "      <th>4</th>\n",
              "      <td>850</td>\n",
              "      <td>Spain</td>\n",
              "      <td>Female</td>\n",
              "      <td>43</td>\n",
              "      <td>2</td>\n",
              "      <td>125510.82</td>\n",
              "      <td>1</td>\n",
              "      <td>1</td>\n",
              "      <td>1</td>\n",
              "      <td>79084.10</td>\n",
              "      <td>0</td>\n",
              "    </tr>\n",
              "  </tbody>\n",
              "</table>\n",
              "</div>\n",
              "      <button class=\"colab-df-convert\" onclick=\"convertToInteractive('df-99a1165d-39a6-439c-a9fe-809380ae5ed4')\"\n",
              "              title=\"Convert this dataframe to an interactive table.\"\n",
              "              style=\"display:none;\">\n",
              "        \n",
              "  <svg xmlns=\"http://www.w3.org/2000/svg\" height=\"24px\"viewBox=\"0 0 24 24\"\n",
              "       width=\"24px\">\n",
              "    <path d=\"M0 0h24v24H0V0z\" fill=\"none\"/>\n",
              "    <path d=\"M18.56 5.44l.94 2.06.94-2.06 2.06-.94-2.06-.94-.94-2.06-.94 2.06-2.06.94zm-11 1L8.5 8.5l.94-2.06 2.06-.94-2.06-.94L8.5 2.5l-.94 2.06-2.06.94zm10 10l.94 2.06.94-2.06 2.06-.94-2.06-.94-.94-2.06-.94 2.06-2.06.94z\"/><path d=\"M17.41 7.96l-1.37-1.37c-.4-.4-.92-.59-1.43-.59-.52 0-1.04.2-1.43.59L10.3 9.45l-7.72 7.72c-.78.78-.78 2.05 0 2.83L4 21.41c.39.39.9.59 1.41.59.51 0 1.02-.2 1.41-.59l7.78-7.78 2.81-2.81c.8-.78.8-2.07 0-2.86zM5.41 20L4 18.59l7.72-7.72 1.47 1.35L5.41 20z\"/>\n",
              "  </svg>\n",
              "      </button>\n",
              "      \n",
              "  <style>\n",
              "    .colab-df-container {\n",
              "      display:flex;\n",
              "      flex-wrap:wrap;\n",
              "      gap: 12px;\n",
              "    }\n",
              "\n",
              "    .colab-df-convert {\n",
              "      background-color: #E8F0FE;\n",
              "      border: none;\n",
              "      border-radius: 50%;\n",
              "      cursor: pointer;\n",
              "      display: none;\n",
              "      fill: #1967D2;\n",
              "      height: 32px;\n",
              "      padding: 0 0 0 0;\n",
              "      width: 32px;\n",
              "    }\n",
              "\n",
              "    .colab-df-convert:hover {\n",
              "      background-color: #E2EBFA;\n",
              "      box-shadow: 0px 1px 2px rgba(60, 64, 67, 0.3), 0px 1px 3px 1px rgba(60, 64, 67, 0.15);\n",
              "      fill: #174EA6;\n",
              "    }\n",
              "\n",
              "    [theme=dark] .colab-df-convert {\n",
              "      background-color: #3B4455;\n",
              "      fill: #D2E3FC;\n",
              "    }\n",
              "\n",
              "    [theme=dark] .colab-df-convert:hover {\n",
              "      background-color: #434B5C;\n",
              "      box-shadow: 0px 1px 3px 1px rgba(0, 0, 0, 0.15);\n",
              "      filter: drop-shadow(0px 1px 2px rgba(0, 0, 0, 0.3));\n",
              "      fill: #FFFFFF;\n",
              "    }\n",
              "  </style>\n",
              "\n",
              "      <script>\n",
              "        const buttonEl =\n",
              "          document.querySelector('#df-99a1165d-39a6-439c-a9fe-809380ae5ed4 button.colab-df-convert');\n",
              "        buttonEl.style.display =\n",
              "          google.colab.kernel.accessAllowed ? 'block' : 'none';\n",
              "\n",
              "        async function convertToInteractive(key) {\n",
              "          const element = document.querySelector('#df-99a1165d-39a6-439c-a9fe-809380ae5ed4');\n",
              "          const dataTable =\n",
              "            await google.colab.kernel.invokeFunction('convertToInteractive',\n",
              "                                                     [key], {});\n",
              "          if (!dataTable) return;\n",
              "\n",
              "          const docLinkHtml = 'Like what you see? Visit the ' +\n",
              "            '<a target=\"_blank\" href=https://colab.research.google.com/notebooks/data_table.ipynb>data table notebook</a>'\n",
              "            + ' to learn more about interactive tables.';\n",
              "          element.innerHTML = '';\n",
              "          dataTable['output_type'] = 'display_data';\n",
              "          await google.colab.output.renderOutput(dataTable, element);\n",
              "          const docLink = document.createElement('div');\n",
              "          docLink.innerHTML = docLinkHtml;\n",
              "          element.appendChild(docLink);\n",
              "        }\n",
              "      </script>\n",
              "    </div>\n",
              "  </div>\n",
              "  "
            ],
            "text/plain": [
              "   CreditScore Geography  Gender  Age  Tenure    Balance  NumOfProducts  \\\n",
              "0          619    France  Female   42       2       0.00              1   \n",
              "1          608     Spain  Female   41       1   83807.86              1   \n",
              "2          502    France  Female   42       8  159660.80              3   \n",
              "3          699    France  Female   39       1       0.00              2   \n",
              "4          850     Spain  Female   43       2  125510.82              1   \n",
              "\n",
              "   HasCrCard  IsActiveMember  EstimatedSalary  Exited  \n",
              "0          1               1        101348.88       1  \n",
              "1          0               1        112542.58       0  \n",
              "2          1               0        113931.57       1  \n",
              "3          0               0         93826.63       0  \n",
              "4          1               1         79084.10       0  "
            ]
          },
          "metadata": {},
          "execution_count": 96
        }
      ]
    },
    {
      "cell_type": "code",
      "source": [
        "df =pd.get_dummies(df, columns=['Geography','Gender'],drop_first=True)\n",
        "\n",
        "df.columns"
      ],
      "metadata": {
        "id": "UdpwZVeAp_6d",
        "colab": {
          "base_uri": "https://localhost:8080/"
        },
        "outputId": "8eb69e5b-0a6a-462b-cf31-f03e482fc72c"
      },
      "execution_count": null,
      "outputs": [
        {
          "output_type": "execute_result",
          "data": {
            "text/plain": [
              "Index(['CreditScore', 'Age', 'Tenure', 'Balance', 'NumOfProducts', 'HasCrCard',\n",
              "       'IsActiveMember', 'EstimatedSalary', 'Exited', 'Geography_Germany',\n",
              "       'Geography_Spain', 'Gender_Male'],\n",
              "      dtype='object')"
            ]
          },
          "metadata": {},
          "execution_count": 97
        }
      ]
    },
    {
      "cell_type": "code",
      "source": [
        "df.head()"
      ],
      "metadata": {
        "id": "FW2GyDLxqLTF",
        "colab": {
          "base_uri": "https://localhost:8080/",
          "height": 206
        },
        "outputId": "9d3b2c47-fdb9-4142-8285-5a9d1da5e910"
      },
      "execution_count": null,
      "outputs": [
        {
          "output_type": "execute_result",
          "data": {
            "text/html": [
              "\n",
              "  <div id=\"df-3064fbc0-eeea-4759-8183-630b026ea455\">\n",
              "    <div class=\"colab-df-container\">\n",
              "      <div>\n",
              "<style scoped>\n",
              "    .dataframe tbody tr th:only-of-type {\n",
              "        vertical-align: middle;\n",
              "    }\n",
              "\n",
              "    .dataframe tbody tr th {\n",
              "        vertical-align: top;\n",
              "    }\n",
              "\n",
              "    .dataframe thead th {\n",
              "        text-align: right;\n",
              "    }\n",
              "</style>\n",
              "<table border=\"1\" class=\"dataframe\">\n",
              "  <thead>\n",
              "    <tr style=\"text-align: right;\">\n",
              "      <th></th>\n",
              "      <th>CreditScore</th>\n",
              "      <th>Age</th>\n",
              "      <th>Tenure</th>\n",
              "      <th>Balance</th>\n",
              "      <th>NumOfProducts</th>\n",
              "      <th>HasCrCard</th>\n",
              "      <th>IsActiveMember</th>\n",
              "      <th>EstimatedSalary</th>\n",
              "      <th>Exited</th>\n",
              "      <th>Geography_Germany</th>\n",
              "      <th>Geography_Spain</th>\n",
              "      <th>Gender_Male</th>\n",
              "    </tr>\n",
              "  </thead>\n",
              "  <tbody>\n",
              "    <tr>\n",
              "      <th>0</th>\n",
              "      <td>619</td>\n",
              "      <td>42</td>\n",
              "      <td>2</td>\n",
              "      <td>0.00</td>\n",
              "      <td>1</td>\n",
              "      <td>1</td>\n",
              "      <td>1</td>\n",
              "      <td>101348.88</td>\n",
              "      <td>1</td>\n",
              "      <td>0</td>\n",
              "      <td>0</td>\n",
              "      <td>0</td>\n",
              "    </tr>\n",
              "    <tr>\n",
              "      <th>1</th>\n",
              "      <td>608</td>\n",
              "      <td>41</td>\n",
              "      <td>1</td>\n",
              "      <td>83807.86</td>\n",
              "      <td>1</td>\n",
              "      <td>0</td>\n",
              "      <td>1</td>\n",
              "      <td>112542.58</td>\n",
              "      <td>0</td>\n",
              "      <td>0</td>\n",
              "      <td>1</td>\n",
              "      <td>0</td>\n",
              "    </tr>\n",
              "    <tr>\n",
              "      <th>2</th>\n",
              "      <td>502</td>\n",
              "      <td>42</td>\n",
              "      <td>8</td>\n",
              "      <td>159660.80</td>\n",
              "      <td>3</td>\n",
              "      <td>1</td>\n",
              "      <td>0</td>\n",
              "      <td>113931.57</td>\n",
              "      <td>1</td>\n",
              "      <td>0</td>\n",
              "      <td>0</td>\n",
              "      <td>0</td>\n",
              "    </tr>\n",
              "    <tr>\n",
              "      <th>3</th>\n",
              "      <td>699</td>\n",
              "      <td>39</td>\n",
              "      <td>1</td>\n",
              "      <td>0.00</td>\n",
              "      <td>2</td>\n",
              "      <td>0</td>\n",
              "      <td>0</td>\n",
              "      <td>93826.63</td>\n",
              "      <td>0</td>\n",
              "      <td>0</td>\n",
              "      <td>0</td>\n",
              "      <td>0</td>\n",
              "    </tr>\n",
              "    <tr>\n",
              "      <th>4</th>\n",
              "      <td>850</td>\n",
              "      <td>43</td>\n",
              "      <td>2</td>\n",
              "      <td>125510.82</td>\n",
              "      <td>1</td>\n",
              "      <td>1</td>\n",
              "      <td>1</td>\n",
              "      <td>79084.10</td>\n",
              "      <td>0</td>\n",
              "      <td>0</td>\n",
              "      <td>1</td>\n",
              "      <td>0</td>\n",
              "    </tr>\n",
              "  </tbody>\n",
              "</table>\n",
              "</div>\n",
              "      <button class=\"colab-df-convert\" onclick=\"convertToInteractive('df-3064fbc0-eeea-4759-8183-630b026ea455')\"\n",
              "              title=\"Convert this dataframe to an interactive table.\"\n",
              "              style=\"display:none;\">\n",
              "        \n",
              "  <svg xmlns=\"http://www.w3.org/2000/svg\" height=\"24px\"viewBox=\"0 0 24 24\"\n",
              "       width=\"24px\">\n",
              "    <path d=\"M0 0h24v24H0V0z\" fill=\"none\"/>\n",
              "    <path d=\"M18.56 5.44l.94 2.06.94-2.06 2.06-.94-2.06-.94-.94-2.06-.94 2.06-2.06.94zm-11 1L8.5 8.5l.94-2.06 2.06-.94-2.06-.94L8.5 2.5l-.94 2.06-2.06.94zm10 10l.94 2.06.94-2.06 2.06-.94-2.06-.94-.94-2.06-.94 2.06-2.06.94z\"/><path d=\"M17.41 7.96l-1.37-1.37c-.4-.4-.92-.59-1.43-.59-.52 0-1.04.2-1.43.59L10.3 9.45l-7.72 7.72c-.78.78-.78 2.05 0 2.83L4 21.41c.39.39.9.59 1.41.59.51 0 1.02-.2 1.41-.59l7.78-7.78 2.81-2.81c.8-.78.8-2.07 0-2.86zM5.41 20L4 18.59l7.72-7.72 1.47 1.35L5.41 20z\"/>\n",
              "  </svg>\n",
              "      </button>\n",
              "      \n",
              "  <style>\n",
              "    .colab-df-container {\n",
              "      display:flex;\n",
              "      flex-wrap:wrap;\n",
              "      gap: 12px;\n",
              "    }\n",
              "\n",
              "    .colab-df-convert {\n",
              "      background-color: #E8F0FE;\n",
              "      border: none;\n",
              "      border-radius: 50%;\n",
              "      cursor: pointer;\n",
              "      display: none;\n",
              "      fill: #1967D2;\n",
              "      height: 32px;\n",
              "      padding: 0 0 0 0;\n",
              "      width: 32px;\n",
              "    }\n",
              "\n",
              "    .colab-df-convert:hover {\n",
              "      background-color: #E2EBFA;\n",
              "      box-shadow: 0px 1px 2px rgba(60, 64, 67, 0.3), 0px 1px 3px 1px rgba(60, 64, 67, 0.15);\n",
              "      fill: #174EA6;\n",
              "    }\n",
              "\n",
              "    [theme=dark] .colab-df-convert {\n",
              "      background-color: #3B4455;\n",
              "      fill: #D2E3FC;\n",
              "    }\n",
              "\n",
              "    [theme=dark] .colab-df-convert:hover {\n",
              "      background-color: #434B5C;\n",
              "      box-shadow: 0px 1px 3px 1px rgba(0, 0, 0, 0.15);\n",
              "      filter: drop-shadow(0px 1px 2px rgba(0, 0, 0, 0.3));\n",
              "      fill: #FFFFFF;\n",
              "    }\n",
              "  </style>\n",
              "\n",
              "      <script>\n",
              "        const buttonEl =\n",
              "          document.querySelector('#df-3064fbc0-eeea-4759-8183-630b026ea455 button.colab-df-convert');\n",
              "        buttonEl.style.display =\n",
              "          google.colab.kernel.accessAllowed ? 'block' : 'none';\n",
              "\n",
              "        async function convertToInteractive(key) {\n",
              "          const element = document.querySelector('#df-3064fbc0-eeea-4759-8183-630b026ea455');\n",
              "          const dataTable =\n",
              "            await google.colab.kernel.invokeFunction('convertToInteractive',\n",
              "                                                     [key], {});\n",
              "          if (!dataTable) return;\n",
              "\n",
              "          const docLinkHtml = 'Like what you see? Visit the ' +\n",
              "            '<a target=\"_blank\" href=https://colab.research.google.com/notebooks/data_table.ipynb>data table notebook</a>'\n",
              "            + ' to learn more about interactive tables.';\n",
              "          element.innerHTML = '';\n",
              "          dataTable['output_type'] = 'display_data';\n",
              "          await google.colab.output.renderOutput(dataTable, element);\n",
              "          const docLink = document.createElement('div');\n",
              "          docLink.innerHTML = docLinkHtml;\n",
              "          element.appendChild(docLink);\n",
              "        }\n",
              "      </script>\n",
              "    </div>\n",
              "  </div>\n",
              "  "
            ],
            "text/plain": [
              "   CreditScore  Age  Tenure    Balance  NumOfProducts  HasCrCard  \\\n",
              "0          619   42       2       0.00              1          1   \n",
              "1          608   41       1   83807.86              1          0   \n",
              "2          502   42       8  159660.80              3          1   \n",
              "3          699   39       1       0.00              2          0   \n",
              "4          850   43       2  125510.82              1          1   \n",
              "\n",
              "   IsActiveMember  EstimatedSalary  Exited  Geography_Germany  \\\n",
              "0               1        101348.88       1                  0   \n",
              "1               1        112542.58       0                  0   \n",
              "2               0        113931.57       1                  0   \n",
              "3               0         93826.63       0                  0   \n",
              "4               1         79084.10       0                  0   \n",
              "\n",
              "   Geography_Spain  Gender_Male  \n",
              "0                0            0  \n",
              "1                1            0  \n",
              "2                0            0  \n",
              "3                0            0  \n",
              "4                1            0  "
            ]
          },
          "metadata": {},
          "execution_count": 98
        }
      ]
    },
    {
      "cell_type": "code",
      "source": [
        "x = df.drop(columns= ['Exited'])\n",
        "y=df['Exited']\n",
        "\n",
        "\n",
        "from sklearn.model_selection import train_test_split\n",
        "\n",
        "x_train, x_test, y_train, y_test = train_test_split(x, y, test_size=0.2, random_state=1)"
      ],
      "metadata": {
        "id": "Xg4atMGbqRk0"
      },
      "execution_count": null,
      "outputs": []
    },
    {
      "cell_type": "code",
      "source": [
        "x_train.shape, x_test.shape, y_train.shape, y_test.shape"
      ],
      "metadata": {
        "id": "hOOkktIsq3Fq",
        "colab": {
          "base_uri": "https://localhost:8080/"
        },
        "outputId": "ef1c9182-a0a9-4e2d-c823-af44f54731f2"
      },
      "execution_count": null,
      "outputs": [
        {
          "output_type": "execute_result",
          "data": {
            "text/plain": [
              "((8000, 11), (2000, 11), (8000,), (2000,))"
            ]
          },
          "metadata": {},
          "execution_count": 100
        }
      ]
    },
    {
      "cell_type": "code",
      "source": [
        "from sklearn.preprocessing import StandardScaler\n",
        "\n",
        "scaler = StandardScaler()\n",
        "\n",
        "x_train_scaled = scaler.fit_transform(x_train)\n",
        "\n",
        "x_test_scaled = scaler.fit_transform(x_test)"
      ],
      "metadata": {
        "id": "PurUzLEiq9oU"
      },
      "execution_count": null,
      "outputs": []
    },
    {
      "cell_type": "code",
      "source": [
        "x_train_scaled.shape"
      ],
      "metadata": {
        "id": "sl-aAt8BrZCK",
        "colab": {
          "base_uri": "https://localhost:8080/"
        },
        "outputId": "e84c8842-279a-4441-9a2d-1813c2880e62"
      },
      "execution_count": null,
      "outputs": [
        {
          "output_type": "execute_result",
          "data": {
            "text/plain": [
              "(8000, 11)"
            ]
          },
          "metadata": {},
          "execution_count": 102
        }
      ]
    },
    {
      "cell_type": "code",
      "source": [
        "import tensorflow\n",
        "from tensorflow import keras\n",
        "from tensorflow.keras import Sequential\n",
        "from tensorflow.keras.layers import Dense"
      ],
      "metadata": {
        "id": "7eMBe_-8roMB"
      },
      "execution_count": null,
      "outputs": []
    },
    {
      "cell_type": "code",
      "source": [
        "model = Sequential()\n",
        "\n",
        "model.add(Dense(3, activation='sigmoid',input_dim =11)) # change activation function to relu and change hidden nodes or hidden layers\n",
        "model.add(Dense(1, activation='sigmoid'))"
      ],
      "metadata": {
        "id": "_ZDwJUGbtjzP"
      },
      "execution_count": null,
      "outputs": []
    },
    {
      "cell_type": "code",
      "source": [
        "model.summary()"
      ],
      "metadata": {
        "id": "A5qpd8dNt-qZ",
        "colab": {
          "base_uri": "https://localhost:8080/"
        },
        "outputId": "f26654dc-8b82-4f0b-edf3-b30c1b0b9913"
      },
      "execution_count": null,
      "outputs": [
        {
          "output_type": "stream",
          "name": "stdout",
          "text": [
            "Model: \"sequential_2\"\n",
            "_________________________________________________________________\n",
            " Layer (type)                Output Shape              Param #   \n",
            "=================================================================\n",
            " dense_5 (Dense)             (None, 3)                 36        \n",
            "                                                                 \n",
            " dense_6 (Dense)             (None, 1)                 4         \n",
            "                                                                 \n",
            "=================================================================\n",
            "Total params: 40\n",
            "Trainable params: 40\n",
            "Non-trainable params: 0\n",
            "_________________________________________________________________\n"
          ]
        }
      ]
    },
    {
      "cell_type": "code",
      "source": [
        "model.compile(loss = 'binary_crossentropy', optimizer='Adam')"
      ],
      "metadata": {
        "id": "sxnvgm3UuAx7"
      },
      "execution_count": null,
      "outputs": []
    },
    {
      "cell_type": "code",
      "source": [
        "model.fit(x_train_scaled, y_train, epochs = 100)"
      ],
      "metadata": {
        "id": "gy5IycR4ukwE",
        "colab": {
          "base_uri": "https://localhost:8080/"
        },
        "collapsed": true,
        "outputId": "b5b987e8-b7b5-4c19-ca93-724a4eda2933"
      },
      "execution_count": null,
      "outputs": [
        {
          "output_type": "stream",
          "name": "stdout",
          "text": [
            "Epoch 1/100\n",
            "250/250 [==============================] - 1s 3ms/step - loss: 1.2657\n",
            "Epoch 2/100\n",
            "250/250 [==============================] - 1s 3ms/step - loss: 0.9273\n",
            "Epoch 3/100\n",
            "250/250 [==============================] - 1s 3ms/step - loss: 0.7318\n",
            "Epoch 4/100\n",
            "250/250 [==============================] - 1s 3ms/step - loss: 0.6236\n",
            "Epoch 5/100\n",
            "250/250 [==============================] - 1s 3ms/step - loss: 0.5641\n",
            "Epoch 6/100\n",
            "250/250 [==============================] - 1s 3ms/step - loss: 0.5313\n",
            "Epoch 7/100\n",
            "250/250 [==============================] - 1s 3ms/step - loss: 0.5128\n",
            "Epoch 8/100\n",
            "250/250 [==============================] - 1s 3ms/step - loss: 0.5017\n",
            "Epoch 9/100\n",
            "250/250 [==============================] - 1s 3ms/step - loss: 0.4941\n",
            "Epoch 10/100\n",
            "250/250 [==============================] - 1s 3ms/step - loss: 0.4879\n",
            "Epoch 11/100\n",
            "250/250 [==============================] - 1s 3ms/step - loss: 0.4821\n",
            "Epoch 12/100\n",
            "250/250 [==============================] - 1s 3ms/step - loss: 0.4762\n",
            "Epoch 13/100\n",
            "250/250 [==============================] - 1s 3ms/step - loss: 0.4703\n",
            "Epoch 14/100\n",
            "250/250 [==============================] - 1s 3ms/step - loss: 0.4645\n",
            "Epoch 15/100\n",
            "250/250 [==============================] - 1s 3ms/step - loss: 0.4588\n",
            "Epoch 16/100\n",
            "250/250 [==============================] - 1s 3ms/step - loss: 0.4536\n",
            "Epoch 17/100\n",
            "250/250 [==============================] - 1s 3ms/step - loss: 0.4488\n",
            "Epoch 18/100\n",
            "250/250 [==============================] - 1s 3ms/step - loss: 0.4445\n",
            "Epoch 19/100\n",
            "250/250 [==============================] - 1s 3ms/step - loss: 0.4407\n",
            "Epoch 20/100\n",
            "250/250 [==============================] - 1s 3ms/step - loss: 0.4374\n",
            "Epoch 21/100\n",
            "250/250 [==============================] - 1s 3ms/step - loss: 0.4343\n",
            "Epoch 22/100\n",
            "250/250 [==============================] - 1s 3ms/step - loss: 0.4315\n",
            "Epoch 23/100\n",
            "250/250 [==============================] - 1s 3ms/step - loss: 0.4288\n",
            "Epoch 24/100\n",
            "250/250 [==============================] - 1s 3ms/step - loss: 0.4260\n",
            "Epoch 25/100\n",
            "250/250 [==============================] - 1s 3ms/step - loss: 0.4233\n",
            "Epoch 26/100\n",
            "250/250 [==============================] - 1s 3ms/step - loss: 0.4205\n",
            "Epoch 27/100\n",
            "250/250 [==============================] - 1s 3ms/step - loss: 0.4179\n",
            "Epoch 28/100\n",
            "250/250 [==============================] - 1s 3ms/step - loss: 0.4153\n",
            "Epoch 29/100\n",
            "250/250 [==============================] - 1s 3ms/step - loss: 0.4129\n",
            "Epoch 30/100\n",
            "250/250 [==============================] - 1s 3ms/step - loss: 0.4106\n",
            "Epoch 31/100\n",
            "250/250 [==============================] - 1s 3ms/step - loss: 0.4084\n",
            "Epoch 32/100\n",
            "250/250 [==============================] - 1s 3ms/step - loss: 0.4063\n",
            "Epoch 33/100\n",
            "250/250 [==============================] - 1s 3ms/step - loss: 0.4043\n",
            "Epoch 34/100\n",
            "250/250 [==============================] - 1s 3ms/step - loss: 0.4025\n",
            "Epoch 35/100\n",
            "250/250 [==============================] - 1s 3ms/step - loss: 0.4008\n",
            "Epoch 36/100\n",
            "250/250 [==============================] - 1s 3ms/step - loss: 0.3991\n",
            "Epoch 37/100\n",
            "250/250 [==============================] - 1s 3ms/step - loss: 0.3976\n",
            "Epoch 38/100\n",
            "250/250 [==============================] - 1s 3ms/step - loss: 0.3961\n",
            "Epoch 39/100\n",
            "250/250 [==============================] - 1s 3ms/step - loss: 0.3948\n",
            "Epoch 40/100\n",
            "250/250 [==============================] - 1s 3ms/step - loss: 0.3934\n",
            "Epoch 41/100\n",
            "250/250 [==============================] - 1s 3ms/step - loss: 0.3922\n",
            "Epoch 42/100\n",
            "250/250 [==============================] - 1s 3ms/step - loss: 0.3910\n",
            "Epoch 43/100\n",
            "250/250 [==============================] - 1s 3ms/step - loss: 0.3898\n",
            "Epoch 44/100\n",
            "250/250 [==============================] - 1s 3ms/step - loss: 0.3887\n",
            "Epoch 45/100\n",
            "250/250 [==============================] - 1s 3ms/step - loss: 0.3877\n",
            "Epoch 46/100\n",
            "250/250 [==============================] - 1s 3ms/step - loss: 0.3867\n",
            "Epoch 47/100\n",
            "250/250 [==============================] - 1s 3ms/step - loss: 0.3858\n",
            "Epoch 48/100\n",
            "250/250 [==============================] - 1s 3ms/step - loss: 0.3848\n",
            "Epoch 49/100\n",
            "250/250 [==============================] - 1s 3ms/step - loss: 0.3840\n",
            "Epoch 50/100\n",
            "250/250 [==============================] - 1s 3ms/step - loss: 0.3832\n",
            "Epoch 51/100\n",
            "250/250 [==============================] - 1s 3ms/step - loss: 0.3823\n",
            "Epoch 52/100\n",
            "250/250 [==============================] - 1s 3ms/step - loss: 0.3815\n",
            "Epoch 53/100\n",
            "250/250 [==============================] - 1s 3ms/step - loss: 0.3807\n",
            "Epoch 54/100\n",
            "250/250 [==============================] - 1s 3ms/step - loss: 0.3800\n",
            "Epoch 55/100\n",
            "250/250 [==============================] - 1s 3ms/step - loss: 0.3792\n",
            "Epoch 56/100\n",
            "250/250 [==============================] - 1s 3ms/step - loss: 0.3785\n",
            "Epoch 57/100\n",
            "250/250 [==============================] - 1s 3ms/step - loss: 0.3778\n",
            "Epoch 58/100\n",
            "250/250 [==============================] - 1s 3ms/step - loss: 0.3771\n",
            "Epoch 59/100\n",
            "250/250 [==============================] - 1s 3ms/step - loss: 0.3763\n",
            "Epoch 60/100\n",
            "250/250 [==============================] - 1s 3ms/step - loss: 0.3757\n",
            "Epoch 61/100\n",
            "250/250 [==============================] - 1s 3ms/step - loss: 0.3750\n",
            "Epoch 62/100\n",
            "250/250 [==============================] - 1s 3ms/step - loss: 0.3744\n",
            "Epoch 63/100\n",
            "250/250 [==============================] - 1s 3ms/step - loss: 0.3737\n",
            "Epoch 64/100\n",
            "250/250 [==============================] - 1s 3ms/step - loss: 0.3731\n",
            "Epoch 65/100\n",
            "250/250 [==============================] - 1s 3ms/step - loss: 0.3725\n",
            "Epoch 66/100\n",
            "250/250 [==============================] - 1s 3ms/step - loss: 0.3719\n",
            "Epoch 67/100\n",
            "250/250 [==============================] - 1s 3ms/step - loss: 0.3713\n",
            "Epoch 68/100\n",
            "250/250 [==============================] - 1s 3ms/step - loss: 0.3706\n",
            "Epoch 69/100\n",
            "250/250 [==============================] - 1s 3ms/step - loss: 0.3701\n",
            "Epoch 70/100\n",
            "250/250 [==============================] - 1s 3ms/step - loss: 0.3696\n",
            "Epoch 71/100\n",
            "250/250 [==============================] - 1s 3ms/step - loss: 0.3689\n",
            "Epoch 72/100\n",
            "250/250 [==============================] - 1s 3ms/step - loss: 0.3684\n",
            "Epoch 73/100\n",
            "250/250 [==============================] - 1s 3ms/step - loss: 0.3678\n",
            "Epoch 74/100\n",
            "250/250 [==============================] - 1s 3ms/step - loss: 0.3671\n",
            "Epoch 75/100\n",
            "250/250 [==============================] - 1s 3ms/step - loss: 0.3666\n",
            "Epoch 76/100\n",
            "250/250 [==============================] - 1s 3ms/step - loss: 0.3660\n",
            "Epoch 77/100\n",
            "250/250 [==============================] - 1s 3ms/step - loss: 0.3654\n",
            "Epoch 78/100\n",
            "250/250 [==============================] - 1s 3ms/step - loss: 0.3649\n",
            "Epoch 79/100\n",
            "250/250 [==============================] - 1s 3ms/step - loss: 0.3643\n",
            "Epoch 80/100\n",
            "250/250 [==============================] - 1s 3ms/step - loss: 0.3637\n",
            "Epoch 81/100\n",
            "250/250 [==============================] - 1s 3ms/step - loss: 0.3631\n",
            "Epoch 82/100\n",
            "250/250 [==============================] - 1s 3ms/step - loss: 0.3625\n",
            "Epoch 83/100\n",
            "250/250 [==============================] - 1s 3ms/step - loss: 0.3620\n",
            "Epoch 84/100\n",
            "250/250 [==============================] - 1s 3ms/step - loss: 0.3613\n",
            "Epoch 85/100\n",
            "250/250 [==============================] - 1s 3ms/step - loss: 0.3608\n",
            "Epoch 86/100\n",
            "250/250 [==============================] - 1s 3ms/step - loss: 0.3602\n",
            "Epoch 87/100\n",
            "250/250 [==============================] - 1s 3ms/step - loss: 0.3597\n",
            "Epoch 88/100\n",
            "250/250 [==============================] - 1s 3ms/step - loss: 0.3591\n",
            "Epoch 89/100\n",
            "250/250 [==============================] - 1s 3ms/step - loss: 0.3586\n",
            "Epoch 90/100\n",
            "250/250 [==============================] - 1s 3ms/step - loss: 0.3581\n",
            "Epoch 91/100\n",
            "250/250 [==============================] - 1s 3ms/step - loss: 0.3575\n",
            "Epoch 92/100\n",
            "250/250 [==============================] - 1s 3ms/step - loss: 0.3570\n",
            "Epoch 93/100\n",
            "250/250 [==============================] - 1s 3ms/step - loss: 0.3566\n",
            "Epoch 94/100\n",
            "250/250 [==============================] - 1s 3ms/step - loss: 0.3560\n",
            "Epoch 95/100\n",
            "250/250 [==============================] - 1s 3ms/step - loss: 0.3556\n",
            "Epoch 96/100\n",
            "250/250 [==============================] - 1s 3ms/step - loss: 0.3551\n",
            "Epoch 97/100\n",
            "250/250 [==============================] - 1s 3ms/step - loss: 0.3547\n",
            "Epoch 98/100\n",
            "250/250 [==============================] - 1s 3ms/step - loss: 0.3543\n",
            "Epoch 99/100\n",
            "250/250 [==============================] - 1s 3ms/step - loss: 0.3539\n",
            "Epoch 100/100\n",
            "250/250 [==============================] - 1s 3ms/step - loss: 0.3536\n"
          ]
        },
        {
          "output_type": "execute_result",
          "data": {
            "text/plain": [
              "<keras.callbacks.History at 0x7f82d325db10>"
            ]
          },
          "metadata": {},
          "execution_count": 107
        }
      ]
    },
    {
      "cell_type": "code",
      "source": [
        "model.layers[0].get_weights()"
      ],
      "metadata": {
        "id": "D-mnBI5_usQR",
        "colab": {
          "base_uri": "https://localhost:8080/"
        },
        "outputId": "9890c0a4-fb67-4f84-dea7-c3801f0ab904"
      },
      "execution_count": null,
      "outputs": [
        {
          "output_type": "execute_result",
          "data": {
            "text/plain": [
              "[array([[-0.00797893, -0.05455675, -0.07572207],\n",
              "        [ 4.3378096 , -0.12235497,  0.08548673],\n",
              "        [ 0.11655872, -0.17209828, -0.02215402],\n",
              "        [ 0.56103545, -0.9984812 ,  0.73729837],\n",
              "        [ 0.4643256 , -3.8308606 ,  1.9231743 ],\n",
              "        [ 0.07832304, -0.07676259, -0.06015174],\n",
              "        [ 0.42332208, -1.1128423 , -0.6045188 ],\n",
              "        [-0.0195047 ,  0.10476443,  0.03323629],\n",
              "        [-0.11581516,  1.0745984 , -0.11462092],\n",
              "        [-0.17484094,  0.04769508,  0.23183267],\n",
              "        [-0.2544536 , -0.25575835, -0.25602755]], dtype=float32),\n",
              " array([-1.102495, -2.591416, -3.147513], dtype=float32)]"
            ]
          },
          "metadata": {},
          "execution_count": 108
        }
      ]
    },
    {
      "cell_type": "code",
      "source": [
        "model.layers[1].get_weights()"
      ],
      "metadata": {
        "id": "qXY9XSVbu770",
        "colab": {
          "base_uri": "https://localhost:8080/"
        },
        "outputId": "c5e9b3ea-dafe-46d2-adff-04914756d0ee"
      },
      "execution_count": null,
      "outputs": [
        {
          "output_type": "execute_result",
          "data": {
            "text/plain": [
              "[array([[2.2603836],\n",
              "        [3.1403594],\n",
              "        [3.9879518]], dtype=float32), array([-3.9953632], dtype=float32)]"
            ]
          },
          "metadata": {},
          "execution_count": 109
        }
      ]
    },
    {
      "cell_type": "code",
      "source": [
        "y_log = model.predict(x_test_scaled)"
      ],
      "metadata": {
        "id": "-JKHF9p3u-A4"
      },
      "execution_count": null,
      "outputs": []
    },
    {
      "cell_type": "code",
      "source": [
        "y_log = model.predict(x_test_scaled)\n",
        "y_pred=np.where(y_log>0.5,1,0)"
      ],
      "metadata": {
        "id": "3tkDCeqgvJWA"
      },
      "execution_count": null,
      "outputs": []
    },
    {
      "cell_type": "code",
      "source": [
        "from sklearn.metrics import accuracy_score\n",
        "\n",
        "accuracy_score(y_test, y_pred)"
      ],
      "metadata": {
        "id": "9qc_gqGlvTY3",
        "colab": {
          "base_uri": "https://localhost:8080/"
        },
        "outputId": "85952bd4-8e6a-4801-a47b-f6dcfa4c9718"
      },
      "execution_count": null,
      "outputs": [
        {
          "output_type": "execute_result",
          "data": {
            "text/plain": [
              "0.857"
            ]
          },
          "metadata": {},
          "execution_count": 112
        }
      ]
    },
    {
      "cell_type": "code",
      "source": [
        "model2 = Sequential()\n",
        "\n",
        "model2.add(Dense(11, activation='relu',input_dim =11)) # change activation function to relu and change hidden nodes or hidden layers\n",
        "\n",
        "model2.add(Dense(11, activation='relu')) \n",
        "\n",
        "model2.add(Dense(1, activation='sigmoid'))"
      ],
      "metadata": {
        "id": "kXKOsR7XvmWG"
      },
      "execution_count": null,
      "outputs": []
    },
    {
      "cell_type": "code",
      "source": [
        "model2.compile(loss = 'binary_crossentropy', optimizer='Adam', metrics=['accuracy'])"
      ],
      "metadata": {
        "id": "Pv50hV-NwpYD"
      },
      "execution_count": null,
      "outputs": []
    },
    {
      "cell_type": "code",
      "source": [
        "history = model2.fit(x_train_scaled, y_train , epochs =100, validation_split=0.2)"
      ],
      "metadata": {
        "id": "rVXPHKyVwpQL",
        "colab": {
          "base_uri": "https://localhost:8080/"
        },
        "outputId": "3f9e0f1b-00d0-4353-efce-06cf98129a14"
      },
      "execution_count": null,
      "outputs": [
        {
          "output_type": "stream",
          "name": "stdout",
          "text": [
            "Epoch 1/100\n",
            "200/200 [==============================] - 1s 4ms/step - loss: 0.5464 - accuracy: 0.7773 - val_loss: 0.4815 - val_accuracy: 0.7956\n",
            "Epoch 2/100\n",
            "200/200 [==============================] - 1s 4ms/step - loss: 0.4568 - accuracy: 0.8025 - val_loss: 0.4426 - val_accuracy: 0.8069\n",
            "Epoch 3/100\n",
            "200/200 [==============================] - 1s 4ms/step - loss: 0.4312 - accuracy: 0.8109 - val_loss: 0.4296 - val_accuracy: 0.8131\n",
            "Epoch 4/100\n",
            "200/200 [==============================] - 1s 4ms/step - loss: 0.4170 - accuracy: 0.8208 - val_loss: 0.4137 - val_accuracy: 0.8313\n",
            "Epoch 5/100\n",
            "200/200 [==============================] - 1s 4ms/step - loss: 0.4021 - accuracy: 0.8331 - val_loss: 0.4022 - val_accuracy: 0.8319\n",
            "Epoch 6/100\n",
            "200/200 [==============================] - 1s 4ms/step - loss: 0.3872 - accuracy: 0.8425 - val_loss: 0.3822 - val_accuracy: 0.8425\n",
            "Epoch 7/100\n",
            "200/200 [==============================] - 1s 4ms/step - loss: 0.3741 - accuracy: 0.8477 - val_loss: 0.3704 - val_accuracy: 0.8481\n",
            "Epoch 8/100\n",
            "200/200 [==============================] - 1s 4ms/step - loss: 0.3652 - accuracy: 0.8512 - val_loss: 0.3607 - val_accuracy: 0.8525\n",
            "Epoch 9/100\n",
            "200/200 [==============================] - 1s 4ms/step - loss: 0.3588 - accuracy: 0.8533 - val_loss: 0.3550 - val_accuracy: 0.8500\n",
            "Epoch 10/100\n",
            "200/200 [==============================] - 1s 4ms/step - loss: 0.3536 - accuracy: 0.8559 - val_loss: 0.3531 - val_accuracy: 0.8500\n",
            "Epoch 11/100\n",
            "200/200 [==============================] - 1s 4ms/step - loss: 0.3496 - accuracy: 0.8602 - val_loss: 0.3499 - val_accuracy: 0.8500\n",
            "Epoch 12/100\n",
            "200/200 [==============================] - 1s 4ms/step - loss: 0.3474 - accuracy: 0.8595 - val_loss: 0.3480 - val_accuracy: 0.8494\n",
            "Epoch 13/100\n",
            "200/200 [==============================] - 1s 4ms/step - loss: 0.3455 - accuracy: 0.8620 - val_loss: 0.3471 - val_accuracy: 0.8512\n",
            "Epoch 14/100\n",
            "200/200 [==============================] - 1s 4ms/step - loss: 0.3440 - accuracy: 0.8605 - val_loss: 0.3460 - val_accuracy: 0.8487\n",
            "Epoch 15/100\n",
            "200/200 [==============================] - 1s 4ms/step - loss: 0.3421 - accuracy: 0.8594 - val_loss: 0.3453 - val_accuracy: 0.8519\n",
            "Epoch 16/100\n",
            "200/200 [==============================] - 1s 4ms/step - loss: 0.3414 - accuracy: 0.8602 - val_loss: 0.3448 - val_accuracy: 0.8562\n",
            "Epoch 17/100\n",
            "200/200 [==============================] - 1s 4ms/step - loss: 0.3401 - accuracy: 0.8609 - val_loss: 0.3466 - val_accuracy: 0.8487\n",
            "Epoch 18/100\n",
            "200/200 [==============================] - 1s 4ms/step - loss: 0.3390 - accuracy: 0.8614 - val_loss: 0.3456 - val_accuracy: 0.8544\n",
            "Epoch 19/100\n",
            "200/200 [==============================] - 1s 4ms/step - loss: 0.3386 - accuracy: 0.8644 - val_loss: 0.3455 - val_accuracy: 0.8512\n",
            "Epoch 20/100\n",
            "200/200 [==============================] - 1s 4ms/step - loss: 0.3378 - accuracy: 0.8630 - val_loss: 0.3452 - val_accuracy: 0.8519\n",
            "Epoch 21/100\n",
            "200/200 [==============================] - 1s 4ms/step - loss: 0.3376 - accuracy: 0.8627 - val_loss: 0.3437 - val_accuracy: 0.8531\n",
            "Epoch 22/100\n",
            "200/200 [==============================] - 1s 4ms/step - loss: 0.3367 - accuracy: 0.8616 - val_loss: 0.3435 - val_accuracy: 0.8531\n",
            "Epoch 23/100\n",
            "200/200 [==============================] - 1s 4ms/step - loss: 0.3363 - accuracy: 0.8628 - val_loss: 0.3461 - val_accuracy: 0.8512\n",
            "Epoch 24/100\n",
            "200/200 [==============================] - 1s 4ms/step - loss: 0.3355 - accuracy: 0.8631 - val_loss: 0.3454 - val_accuracy: 0.8531\n",
            "Epoch 25/100\n",
            "200/200 [==============================] - 1s 4ms/step - loss: 0.3350 - accuracy: 0.8633 - val_loss: 0.3431 - val_accuracy: 0.8550\n",
            "Epoch 26/100\n",
            "200/200 [==============================] - 1s 4ms/step - loss: 0.3346 - accuracy: 0.8630 - val_loss: 0.3439 - val_accuracy: 0.8525\n",
            "Epoch 27/100\n",
            "200/200 [==============================] - 1s 4ms/step - loss: 0.3339 - accuracy: 0.8628 - val_loss: 0.3454 - val_accuracy: 0.8537\n",
            "Epoch 28/100\n",
            "200/200 [==============================] - 1s 4ms/step - loss: 0.3335 - accuracy: 0.8655 - val_loss: 0.3441 - val_accuracy: 0.8531\n",
            "Epoch 29/100\n",
            "200/200 [==============================] - 1s 4ms/step - loss: 0.3335 - accuracy: 0.8637 - val_loss: 0.3445 - val_accuracy: 0.8531\n",
            "Epoch 30/100\n",
            "200/200 [==============================] - 1s 4ms/step - loss: 0.3329 - accuracy: 0.8622 - val_loss: 0.3463 - val_accuracy: 0.8537\n",
            "Epoch 31/100\n",
            "200/200 [==============================] - 1s 4ms/step - loss: 0.3325 - accuracy: 0.8639 - val_loss: 0.3436 - val_accuracy: 0.8544\n",
            "Epoch 32/100\n",
            "200/200 [==============================] - 1s 4ms/step - loss: 0.3317 - accuracy: 0.8627 - val_loss: 0.3424 - val_accuracy: 0.8525\n",
            "Epoch 33/100\n",
            "200/200 [==============================] - 1s 4ms/step - loss: 0.3317 - accuracy: 0.8633 - val_loss: 0.3433 - val_accuracy: 0.8512\n",
            "Epoch 34/100\n",
            "200/200 [==============================] - 1s 4ms/step - loss: 0.3304 - accuracy: 0.8645 - val_loss: 0.3436 - val_accuracy: 0.8531\n",
            "Epoch 35/100\n",
            "200/200 [==============================] - 1s 4ms/step - loss: 0.3307 - accuracy: 0.8631 - val_loss: 0.3425 - val_accuracy: 0.8531\n",
            "Epoch 36/100\n",
            "200/200 [==============================] - 1s 4ms/step - loss: 0.3301 - accuracy: 0.8637 - val_loss: 0.3423 - val_accuracy: 0.8519\n",
            "Epoch 37/100\n",
            "200/200 [==============================] - 1s 4ms/step - loss: 0.3297 - accuracy: 0.8639 - val_loss: 0.3430 - val_accuracy: 0.8531\n",
            "Epoch 38/100\n",
            "200/200 [==============================] - 1s 4ms/step - loss: 0.3295 - accuracy: 0.8641 - val_loss: 0.3436 - val_accuracy: 0.8519\n",
            "Epoch 39/100\n",
            "200/200 [==============================] - 1s 4ms/step - loss: 0.3294 - accuracy: 0.8647 - val_loss: 0.3434 - val_accuracy: 0.8525\n",
            "Epoch 40/100\n",
            "200/200 [==============================] - 1s 4ms/step - loss: 0.3292 - accuracy: 0.8642 - val_loss: 0.3437 - val_accuracy: 0.8537\n",
            "Epoch 41/100\n",
            "200/200 [==============================] - 1s 4ms/step - loss: 0.3291 - accuracy: 0.8648 - val_loss: 0.3423 - val_accuracy: 0.8506\n",
            "Epoch 42/100\n",
            "200/200 [==============================] - 1s 4ms/step - loss: 0.3280 - accuracy: 0.8666 - val_loss: 0.3431 - val_accuracy: 0.8519\n",
            "Epoch 43/100\n",
            "200/200 [==============================] - 1s 4ms/step - loss: 0.3278 - accuracy: 0.8634 - val_loss: 0.3440 - val_accuracy: 0.8506\n",
            "Epoch 44/100\n",
            "200/200 [==============================] - 1s 4ms/step - loss: 0.3276 - accuracy: 0.8656 - val_loss: 0.3447 - val_accuracy: 0.8531\n",
            "Epoch 45/100\n",
            "200/200 [==============================] - 1s 4ms/step - loss: 0.3275 - accuracy: 0.8656 - val_loss: 0.3437 - val_accuracy: 0.8506\n",
            "Epoch 46/100\n",
            "200/200 [==============================] - 1s 4ms/step - loss: 0.3281 - accuracy: 0.8653 - val_loss: 0.3430 - val_accuracy: 0.8494\n",
            "Epoch 47/100\n",
            "200/200 [==============================] - 1s 4ms/step - loss: 0.3267 - accuracy: 0.8652 - val_loss: 0.3462 - val_accuracy: 0.8512\n",
            "Epoch 48/100\n",
            "200/200 [==============================] - 1s 4ms/step - loss: 0.3268 - accuracy: 0.8653 - val_loss: 0.3457 - val_accuracy: 0.8525\n",
            "Epoch 49/100\n",
            "200/200 [==============================] - 1s 4ms/step - loss: 0.3261 - accuracy: 0.8650 - val_loss: 0.3432 - val_accuracy: 0.8512\n",
            "Epoch 50/100\n",
            "200/200 [==============================] - 1s 4ms/step - loss: 0.3271 - accuracy: 0.8639 - val_loss: 0.3440 - val_accuracy: 0.8512\n",
            "Epoch 51/100\n",
            "200/200 [==============================] - 1s 4ms/step - loss: 0.3262 - accuracy: 0.8647 - val_loss: 0.3441 - val_accuracy: 0.8506\n",
            "Epoch 52/100\n",
            "200/200 [==============================] - 1s 4ms/step - loss: 0.3266 - accuracy: 0.8653 - val_loss: 0.3441 - val_accuracy: 0.8506\n",
            "Epoch 53/100\n",
            "200/200 [==============================] - 1s 4ms/step - loss: 0.3260 - accuracy: 0.8656 - val_loss: 0.3434 - val_accuracy: 0.8519\n",
            "Epoch 54/100\n",
            "200/200 [==============================] - 1s 4ms/step - loss: 0.3259 - accuracy: 0.8652 - val_loss: 0.3446 - val_accuracy: 0.8519\n",
            "Epoch 55/100\n",
            "200/200 [==============================] - 1s 4ms/step - loss: 0.3259 - accuracy: 0.8653 - val_loss: 0.3443 - val_accuracy: 0.8519\n",
            "Epoch 56/100\n",
            "200/200 [==============================] - 1s 4ms/step - loss: 0.3250 - accuracy: 0.8662 - val_loss: 0.3432 - val_accuracy: 0.8519\n",
            "Epoch 57/100\n",
            "200/200 [==============================] - 1s 4ms/step - loss: 0.3257 - accuracy: 0.8669 - val_loss: 0.3437 - val_accuracy: 0.8506\n",
            "Epoch 58/100\n",
            "200/200 [==============================] - 1s 4ms/step - loss: 0.3250 - accuracy: 0.8670 - val_loss: 0.3451 - val_accuracy: 0.8525\n",
            "Epoch 59/100\n",
            "200/200 [==============================] - 1s 4ms/step - loss: 0.3253 - accuracy: 0.8664 - val_loss: 0.3437 - val_accuracy: 0.8487\n",
            "Epoch 60/100\n",
            "200/200 [==============================] - 1s 4ms/step - loss: 0.3242 - accuracy: 0.8667 - val_loss: 0.3449 - val_accuracy: 0.8500\n",
            "Epoch 61/100\n",
            "200/200 [==============================] - 1s 4ms/step - loss: 0.3246 - accuracy: 0.8669 - val_loss: 0.3449 - val_accuracy: 0.8519\n",
            "Epoch 62/100\n",
            "200/200 [==============================] - 1s 4ms/step - loss: 0.3243 - accuracy: 0.8653 - val_loss: 0.3457 - val_accuracy: 0.8525\n",
            "Epoch 63/100\n",
            "200/200 [==============================] - 1s 4ms/step - loss: 0.3247 - accuracy: 0.8656 - val_loss: 0.3441 - val_accuracy: 0.8512\n",
            "Epoch 64/100\n",
            "200/200 [==============================] - 1s 4ms/step - loss: 0.3243 - accuracy: 0.8667 - val_loss: 0.3445 - val_accuracy: 0.8487\n",
            "Epoch 65/100\n",
            "200/200 [==============================] - 1s 4ms/step - loss: 0.3241 - accuracy: 0.8673 - val_loss: 0.3456 - val_accuracy: 0.8500\n",
            "Epoch 66/100\n",
            "200/200 [==============================] - 1s 4ms/step - loss: 0.3243 - accuracy: 0.8656 - val_loss: 0.3461 - val_accuracy: 0.8537\n",
            "Epoch 67/100\n",
            "200/200 [==============================] - 1s 4ms/step - loss: 0.3241 - accuracy: 0.8650 - val_loss: 0.3454 - val_accuracy: 0.8525\n",
            "Epoch 68/100\n",
            "200/200 [==============================] - 1s 4ms/step - loss: 0.3228 - accuracy: 0.8658 - val_loss: 0.3488 - val_accuracy: 0.8475\n",
            "Epoch 69/100\n",
            "200/200 [==============================] - 1s 4ms/step - loss: 0.3240 - accuracy: 0.8677 - val_loss: 0.3488 - val_accuracy: 0.8475\n",
            "Epoch 70/100\n",
            "200/200 [==============================] - 1s 4ms/step - loss: 0.3235 - accuracy: 0.8669 - val_loss: 0.3467 - val_accuracy: 0.8487\n",
            "Epoch 71/100\n",
            "200/200 [==============================] - 1s 4ms/step - loss: 0.3237 - accuracy: 0.8656 - val_loss: 0.3466 - val_accuracy: 0.8506\n",
            "Epoch 72/100\n",
            "200/200 [==============================] - 1s 4ms/step - loss: 0.3232 - accuracy: 0.8653 - val_loss: 0.3479 - val_accuracy: 0.8494\n",
            "Epoch 73/100\n",
            "200/200 [==============================] - 1s 4ms/step - loss: 0.3233 - accuracy: 0.8672 - val_loss: 0.3483 - val_accuracy: 0.8494\n",
            "Epoch 74/100\n",
            "200/200 [==============================] - 1s 4ms/step - loss: 0.3228 - accuracy: 0.8666 - val_loss: 0.3461 - val_accuracy: 0.8531\n",
            "Epoch 75/100\n",
            "200/200 [==============================] - 1s 4ms/step - loss: 0.3228 - accuracy: 0.8669 - val_loss: 0.3473 - val_accuracy: 0.8506\n",
            "Epoch 76/100\n",
            "200/200 [==============================] - 1s 4ms/step - loss: 0.3227 - accuracy: 0.8667 - val_loss: 0.3464 - val_accuracy: 0.8481\n",
            "Epoch 77/100\n",
            "200/200 [==============================] - 1s 4ms/step - loss: 0.3229 - accuracy: 0.8677 - val_loss: 0.3497 - val_accuracy: 0.8531\n",
            "Epoch 78/100\n",
            "200/200 [==============================] - 1s 4ms/step - loss: 0.3227 - accuracy: 0.8667 - val_loss: 0.3477 - val_accuracy: 0.8506\n",
            "Epoch 79/100\n",
            "200/200 [==============================] - 1s 4ms/step - loss: 0.3224 - accuracy: 0.8686 - val_loss: 0.3473 - val_accuracy: 0.8500\n",
            "Epoch 80/100\n",
            "200/200 [==============================] - 1s 4ms/step - loss: 0.3220 - accuracy: 0.8691 - val_loss: 0.3477 - val_accuracy: 0.8500\n",
            "Epoch 81/100\n",
            "200/200 [==============================] - 1s 4ms/step - loss: 0.3218 - accuracy: 0.8667 - val_loss: 0.3503 - val_accuracy: 0.8537\n",
            "Epoch 82/100\n",
            "200/200 [==============================] - 1s 4ms/step - loss: 0.3222 - accuracy: 0.8675 - val_loss: 0.3505 - val_accuracy: 0.8494\n",
            "Epoch 83/100\n",
            "200/200 [==============================] - 1s 4ms/step - loss: 0.3219 - accuracy: 0.8664 - val_loss: 0.3512 - val_accuracy: 0.8537\n",
            "Epoch 84/100\n",
            "200/200 [==============================] - 1s 4ms/step - loss: 0.3222 - accuracy: 0.8667 - val_loss: 0.3501 - val_accuracy: 0.8544\n",
            "Epoch 85/100\n",
            "200/200 [==============================] - 1s 4ms/step - loss: 0.3217 - accuracy: 0.8666 - val_loss: 0.3508 - val_accuracy: 0.8537\n",
            "Epoch 86/100\n",
            "200/200 [==============================] - 1s 4ms/step - loss: 0.3219 - accuracy: 0.8678 - val_loss: 0.3508 - val_accuracy: 0.8531\n",
            "Epoch 87/100\n",
            "200/200 [==============================] - 1s 4ms/step - loss: 0.3208 - accuracy: 0.8670 - val_loss: 0.3493 - val_accuracy: 0.8512\n",
            "Epoch 88/100\n",
            "200/200 [==============================] - 1s 4ms/step - loss: 0.3222 - accuracy: 0.8675 - val_loss: 0.3507 - val_accuracy: 0.8531\n",
            "Epoch 89/100\n",
            "200/200 [==============================] - 1s 4ms/step - loss: 0.3212 - accuracy: 0.8675 - val_loss: 0.3494 - val_accuracy: 0.8512\n",
            "Epoch 90/100\n",
            "200/200 [==============================] - 1s 4ms/step - loss: 0.3213 - accuracy: 0.8669 - val_loss: 0.3493 - val_accuracy: 0.8512\n",
            "Epoch 91/100\n",
            "200/200 [==============================] - 1s 4ms/step - loss: 0.3211 - accuracy: 0.8681 - val_loss: 0.3490 - val_accuracy: 0.8519\n",
            "Epoch 92/100\n",
            "200/200 [==============================] - 1s 4ms/step - loss: 0.3208 - accuracy: 0.8662 - val_loss: 0.3507 - val_accuracy: 0.8506\n",
            "Epoch 93/100\n",
            "200/200 [==============================] - 1s 4ms/step - loss: 0.3211 - accuracy: 0.8669 - val_loss: 0.3498 - val_accuracy: 0.8525\n",
            "Epoch 94/100\n",
            "200/200 [==============================] - 1s 4ms/step - loss: 0.3208 - accuracy: 0.8672 - val_loss: 0.3508 - val_accuracy: 0.8512\n",
            "Epoch 95/100\n",
            "200/200 [==============================] - 1s 4ms/step - loss: 0.3206 - accuracy: 0.8667 - val_loss: 0.3506 - val_accuracy: 0.8537\n",
            "Epoch 96/100\n",
            "200/200 [==============================] - 1s 4ms/step - loss: 0.3204 - accuracy: 0.8670 - val_loss: 0.3496 - val_accuracy: 0.8506\n",
            "Epoch 97/100\n",
            "200/200 [==============================] - 1s 4ms/step - loss: 0.3203 - accuracy: 0.8667 - val_loss: 0.3493 - val_accuracy: 0.8550\n",
            "Epoch 98/100\n",
            "200/200 [==============================] - 1s 4ms/step - loss: 0.3201 - accuracy: 0.8666 - val_loss: 0.3530 - val_accuracy: 0.8531\n",
            "Epoch 99/100\n",
            "200/200 [==============================] - 1s 4ms/step - loss: 0.3207 - accuracy: 0.8667 - val_loss: 0.3529 - val_accuracy: 0.8512\n",
            "Epoch 100/100\n",
            "200/200 [==============================] - 1s 4ms/step - loss: 0.3202 - accuracy: 0.8680 - val_loss: 0.3526 - val_accuracy: 0.8512\n"
          ]
        }
      ]
    },
    {
      "cell_type": "code",
      "source": [
        "y_log = model2.predict(x_test_scaled)\n",
        "\n",
        "y_pred=np.where(y_log>0.5,1,0)"
      ],
      "metadata": {
        "id": "0SRDvOCmx3h8"
      },
      "execution_count": null,
      "outputs": []
    },
    {
      "cell_type": "code",
      "source": [
        "from sklearn.metrics import accuracy_score\n",
        "\n",
        "accuracy_score(y_test, y_pred)"
      ],
      "metadata": {
        "id": "9SCsNjbmwpJ5",
        "colab": {
          "base_uri": "https://localhost:8080/"
        },
        "outputId": "d320e737-8e7a-4c45-8238-f9e27880f226"
      },
      "execution_count": null,
      "outputs": [
        {
          "output_type": "execute_result",
          "data": {
            "text/plain": [
              "0.869"
            ]
          },
          "metadata": {},
          "execution_count": 117
        }
      ]
    },
    {
      "cell_type": "code",
      "source": [
        "import matplotlib.pyplot as plt"
      ],
      "metadata": {
        "id": "rFcMbezgwpC3"
      },
      "execution_count": null,
      "outputs": []
    },
    {
      "cell_type": "code",
      "source": [
        "plt.plot(history.history['loss'],label=\"loss\")\n",
        "plt.plot(history.history['val_loss'],label=\"val_loss\")"
      ],
      "metadata": {
        "id": "slk9oYgywowh",
        "colab": {
          "base_uri": "https://localhost:8080/",
          "height": 282
        },
        "outputId": "ded6b202-72b0-46b7-c2bd-2bc587bf6abd"
      },
      "execution_count": null,
      "outputs": [
        {
          "output_type": "execute_result",
          "data": {
            "text/plain": [
              "[<matplotlib.lines.Line2D at 0x7f82d0c17d50>]"
            ]
          },
          "metadata": {},
          "execution_count": 119
        },
        {
          "output_type": "display_data",
          "data": {
            "image/png": "[encoded data removed]",
            "text/plain": [
              "<Figure size 432x288 with 1 Axes>"
            ]
          },
          "metadata": {
            "needs_background": "light"
          }
        }
      ]
    },
    {
      "cell_type": "code",
      "source": [
        "plt.plot(history.history['accuracy'])\n",
        "plt.plot(history.history['val_accuracy'])"
      ],
      "metadata": {
        "id": "3E984wR3wnRq",
        "colab": {
          "base_uri": "https://localhost:8080/",
          "height": 282
        },
        "outputId": "03cec02a-87d2-4cdc-86bb-cd12f0e7301e"
      },
      "execution_count": null,
      "outputs": [
        {
          "output_type": "execute_result",
          "data": {
            "text/plain": [
              "[<matplotlib.lines.Line2D at 0x7f82d0e00710>]"
            ]
          },
          "metadata": {},
          "execution_count": 120
        },
        {
          "output_type": "display_data",
          "data": {
            "image/png": "[encoded data removed]",
            "text/plain": [
              "<Figure size 432x288 with 1 Axes>"
            ]
          },
          "metadata": {
            "needs_background": "light"
          }
        }
      ]
    },
    {
      "cell_type": "code",
      "source": [
        ""
      ],
      "metadata": {
        "id": "E323DjKLzEpS"
      },
      "execution_count": null,
      "outputs": []
    }
  ]
}